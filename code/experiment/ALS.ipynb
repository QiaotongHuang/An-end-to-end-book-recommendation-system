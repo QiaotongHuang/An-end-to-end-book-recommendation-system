{
 "cells": [
  {
   "cell_type": "code",
   "execution_count": 1,
   "metadata": {},
   "outputs": [
    {
     "name": "stderr",
     "output_type": "stream",
     "text": [
      "INFO:__main__:Loading Rating data...\n",
      "Setting default log level to \"WARN\".\n",
      "To adjust logging level use sc.setLogLevel(newLevel). For SparkR, use setLogLevel(newLevel).\n",
      "24/03/31 22:13:09 WARN NativeCodeLoader: Unable to load native-hadoop library for your platform... using builtin-java classes where applicable\n",
      "24/03/31 22:13:16 WARN BlockManager: Task 1 already completed, not releasing lock for rdd_3_0\n",
      "24/03/31 22:13:20 WARN PythonRunner: Detected deadlock while completing task 0.0 in stage 2 (TID 2): Attempting to kill Python Worker\n",
      "24/03/31 22:13:24 WARN PythonRunner: Detected deadlock while completing task 0.0 in stage 3 (TID 3): Attempting to kill Python Worker\n",
      "24/03/31 22:13:31 WARN InstanceBuilder: Failed to load implementation from:dev.ludovic.netlib.blas.JNIBLAS\n",
      "24/03/31 22:13:31 WARN InstanceBuilder: Failed to load implementation from:dev.ludovic.netlib.lapack.JNILAPACK\n",
      "24/03/31 22:13:37 WARN BlockManager: Task 206 already completed, not releasing lock for rdd_3_0\n",
      "24/03/31 22:13:44 WARN BlockManager: Task 239 already completed, not releasing lock for rdd_3_0\n"
     ]
    },
    {
     "name": "stdout",
     "output_type": "stream",
     "text": [
      "For rank 4 the RMSE is 6.340276637195192\n"
     ]
    },
    {
     "name": "stderr",
     "output_type": "stream",
     "text": [
      "24/03/31 22:13:48 WARN PythonRunner: Detected deadlock while completing task 0.0 in stage 181 (TID 240): Attempting to kill Python Worker\n",
      "24/03/31 22:13:52 WARN PythonRunner: Detected deadlock while completing task 0.0 in stage 182 (TID 241): Attempting to kill Python Worker\n",
      "24/03/31 22:13:59 WARN BlockManager: Task 444 already completed, not releasing lock for rdd_3_0\n",
      "24/03/31 22:14:06 WARN BlockManager: Task 477 already completed, not releasing lock for rdd_3_0\n"
     ]
    },
    {
     "name": "stdout",
     "output_type": "stream",
     "text": [
      "For rank 8 the RMSE is 2.391180911253368\n"
     ]
    },
    {
     "name": "stderr",
     "output_type": "stream",
     "text": [
      "24/03/31 22:14:10 WARN PythonRunner: Detected deadlock while completing task 0.0 in stage 360 (TID 478): Attempting to kill Python Worker\n",
      "24/03/31 22:14:14 WARN PythonRunner: Detected deadlock while completing task 0.0 in stage 361 (TID 479): Attempting to kill Python Worker\n",
      "24/03/31 22:14:22 WARN BlockManager: Task 682 already completed, not releasing lock for rdd_3_0\n",
      "24/03/31 22:14:27 WARN BlockManager: Task 715 already completed, not releasing lock for rdd_3_0\n"
     ]
    },
    {
     "name": "stdout",
     "output_type": "stream",
     "text": [
      "For rank 12 the RMSE is 2.6713517485332616\n"
     ]
    },
    {
     "name": "stderr",
     "output_type": "stream",
     "text": [
      "24/03/31 22:14:31 WARN PythonRunner: Detected deadlock while completing task 0.0 in stage 539 (TID 716): Attempting to kill Python Worker\n",
      "24/03/31 22:14:35 WARN PythonRunner: Detected deadlock while completing task 0.0 in stage 540 (TID 717): Attempting to kill Python Worker\n",
      "24/03/31 22:14:44 WARN BlockManager: Task 920 already completed, not releasing lock for rdd_3_0\n",
      "24/03/31 22:14:49 WARN BlockManager: Task 953 already completed, not releasing lock for rdd_3_0\n"
     ]
    },
    {
     "name": "stdout",
     "output_type": "stream",
     "text": [
      "For rank 16 the RMSE is 4.173401658626104\n"
     ]
    },
    {
     "name": "stderr",
     "output_type": "stream",
     "text": [
      "24/03/31 22:14:53 WARN PythonRunner: Detected deadlock while completing task 0.0 in stage 718 (TID 954): Attempting to kill Python Worker\n",
      "24/03/31 22:14:57 WARN PythonRunner: Detected deadlock while completing task 0.0 in stage 719 (TID 955): Attempting to kill Python Worker\n",
      "24/03/31 22:15:08 WARN BlockManager: Task 1158 already completed, not releasing lock for rdd_3_0\n",
      "                                                                                \r"
     ]
    },
    {
     "name": "stdout",
     "output_type": "stream",
     "text": [
      "For rank 20 the RMSE is 4.440313270484995\n"
     ]
    },
    {
     "name": "stderr",
     "output_type": "stream",
     "text": [
      "24/03/31 22:15:14 WARN BlockManager: Task 1191 already completed, not releasing lock for rdd_3_0\n",
      "24/03/31 22:15:18 WARN PythonRunner: Detected deadlock while completing task 0.0 in stage 897 (TID 1192): Attempting to kill Python Worker\n",
      "24/03/31 22:15:22 WARN PythonRunner: Detected deadlock while completing task 0.0 in stage 898 (TID 1193): Attempting to kill Python Worker\n",
      "24/03/31 22:15:40 WARN BlockManager: Task 1396 already completed, not releasing lock for rdd_3_0\n",
      "[Stage 1074:============================================>          (8 + 2) / 10]\r"
     ]
    },
    {
     "name": "stdout",
     "output_type": "stream",
     "text": [
      "For rank 30 the RMSE is 5.448719406907229\n",
      "The best model was trained with rank 8\n"
     ]
    },
    {
     "name": "stderr",
     "output_type": "stream",
     "text": [
      "                                                                                \r"
     ]
    }
   ],
   "source": [
    "import math\n",
    "import os\n",
    "from pyspark.mllib.recommendation import ALS\n",
    "from pyspark import SparkContext, SparkConf\n",
    "\n",
    "import logging\n",
    "logging.basicConfig(level=logging.INFO)\n",
    "logger = logging.getLogger(__name__)\n",
    "\n",
    "logger.info(\"Loading Rating data...\")\n",
    "sc = SparkContext()\n",
    "dataset_path = os.path.join('../datasets', 'BOOK')\n",
    "ratings_file_path = os.path.join(dataset_path, 'Ratings.csv')\n",
    "# Preprocessing ratings data\n",
    "ratings_raw_RDD = sc.textFile(ratings_file_path)\n",
    "ratings_raw_data_header = ratings_raw_RDD.take(1)[0]\n",
    "ratings_RDD = ratings_raw_RDD.filter(lambda line: line!=ratings_raw_data_header)\\\n",
    "    .map(lambda line: line.split(\";\"))\\\n",
    "    .map(lambda tokens: (int(tokens[0][1:-1]), abs(hash(tokens[1][1:-1])) % (10 ** 8), int(tokens[2][1:-1]))).cache()\n",
    "\n",
    "# Splitting data into train, test, and validate sets\n",
    "test, train, validate = ratings_RDD.randomSplit(weights=[0.3, 0.6, 0.1], seed=1)\n",
    "\n",
    "test = test.map(lambda token: (token[0], token[1]))\n",
    "\n",
    "# Setting parameters for ALS model\n",
    "seed = 5\n",
    "iterations = 10\n",
    "regularization_parameter = 0.1\n",
    "ranks = [4, 8, 12, 16, 20, 30]\n",
    "errors = [0, 0, 0, 0, 0, 0]\n",
    "err = 0\n",
    "tolerance = 0.02\n",
    "\n",
    "# Training ALS model with different ranks and finding the best model\n",
    "min_error = float('inf')\n",
    "best_rank = -1\n",
    "best_iteration = -1\n",
    "for rank in ranks:\n",
    "    model = ALS.train(train, rank, seed=seed, iterations=iterations,\n",
    "                      lambda_=regularization_parameter)\n",
    "    predictions = model.predictAll(test).map(lambda r: ((r[0], r[1]), r[2]))\n",
    "    rates_and_preds = validate.map(lambda r: ((int(r[0]), int(r[1])), float(r[2]))).join(predictions)\n",
    "    error = math.sqrt(rates_and_preds.map(lambda r: (r[1][0] - r[1][1])**2).mean())\n",
    "    errors[err] = error\n",
    "    err += 1\n",
    "    print(f'For rank {rank} the RMSE is {error}')\n",
    "    if error < min_error:\n",
    "        min_error = error\n",
    "        best_rank = rank\n",
    "\n",
    "print(f'The best model was trained with rank {best_rank}')\n"
   ]
  }
 ],
 "metadata": {
  "kernelspec": {
   "display_name": "Python 3",
   "language": "python",
   "name": "python3"
  },
  "language_info": {
   "codemirror_mode": {
    "name": "ipython",
    "version": 3
   },
   "file_extension": ".py",
   "mimetype": "text/x-python",
   "name": "python",
   "nbconvert_exporter": "python",
   "pygments_lexer": "ipython3",
   "version": "3.10.14"
  }
 },
 "nbformat": 4,
 "nbformat_minor": 2
}
